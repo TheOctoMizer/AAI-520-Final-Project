{
 "cells": [
  {
   "cell_type": "code",
   "execution_count": 1,
   "id": "96a9604e",
   "metadata": {},
   "outputs": [
    {
     "name": "stderr",
     "output_type": "stream",
     "text": [
      "USER_AGENT environment variable not set, consider setting it to identify your requests.\n"
     ]
    }
   ],
   "source": [
    "from langchain_community.tools.yahoo_finance_news import YahooFinanceNewsTool\n",
    "from langchain_community.tools import DuckDuckGoSearchResults, WikipediaQueryRun\n",
    "from langchain_community.utilities import WikipediaAPIWrapper\n",
    "from langchain_openai import ChatOpenAI\n",
    "from pydantic import BaseModel, Field\n",
    "from typing import List, Optional, Dict\n",
    "from textwrap import dedent\n",
    "import networkx as nx\n",
    "import requests, json, time, os"
   ]
  },
  {
   "cell_type": "code",
   "execution_count": 2,
   "id": "b5872061",
   "metadata": {},
   "outputs": [],
   "source": [
    "LMSTUDIO_URL = \"http://localhost:1234/v1\"\n",
    "LLM_NAME = \"gemma-3-27b-it\"\n",
    "ENTITY_EXTRACTOR = \"qwen/qwen3-next-80b\"\n",
    "EXTRACTION_TEMPERATURE = 0\n",
    "FETCH_DELAY_SECONDS = 1.5\n",
    "SQLITE_DB_PATH = \"kg_store.db\"\n",
    "ALPHA_VANTAGE_API_KEY = os.getenv('ALPHA_VANTAGE_KEY')"
   ]
  },
  {
   "cell_type": "code",
   "execution_count": 3,
   "id": "63cadebb",
   "metadata": {},
   "outputs": [],
   "source": [
    "yahoo_news = YahooFinanceNewsTool()\n",
    "wiki = WikipediaQueryRun(api_wrapper=WikipediaAPIWrapper())\n",
    "ddgo = DuckDuckGoSearchResults()"
   ]
  },
  {
   "cell_type": "code",
   "execution_count": 4,
   "id": "fa24ea53",
   "metadata": {},
   "outputs": [],
   "source": [
    "class Entity(BaseModel):\n",
    "    text: str = Field(description=\"The extracted entity text\")\n",
    "    label: str = Field(description=\"Entity type (PERSON, ORGANIZATION, STOCK_SYMBOL, etc.)\")\n",
    "    confidence: Optional[float] = Field(description=\"Confidence score\", default=None)\n"
   ]
  },
  {
   "cell_type": "code",
   "execution_count": 5,
   "id": "cf0d216c",
   "metadata": {},
   "outputs": [],
   "source": [
    "class NERResponse(BaseModel):\n",
    "    entities: List[Entity] = Field(description=\"List of extracted named entities\")\n"
   ]
  },
  {
   "cell_type": "code",
   "execution_count": 6,
   "id": "11ce62ce",
   "metadata": {},
   "outputs": [],
   "source": [
    "extraction_model = ChatOpenAI(\n",
    "    base_url=LMSTUDIO_URL,\n",
    "    api_key=\"dummy\",\n",
    "    model_name=ENTITY_EXTRACTOR,\n",
    "    temperature=0\n",
    ").with_structured_output(NERResponse)"
   ]
  },
  {
   "cell_type": "code",
   "execution_count": 7,
   "id": "6b5325c9",
   "metadata": {},
   "outputs": [],
   "source": [
    "FINANCIAL_ENTITY_LABELS = {\n",
    "    \"ORGANIZATION\", \"PERSON\", \"PRODUCT\", \"EVENT\", \"STOCK_SYMBOL\", \"POLICY\", \"GOVERNMENT\", \"COMPANY\"\n",
    "}"
   ]
  },
  {
   "cell_type": "code",
   "execution_count": 8,
   "id": "277d38cd",
   "metadata": {},
   "outputs": [],
   "source": [
    "def is_relevant_entity(ent: Entity) -> bool:\n",
    "    \"\"\"Filter out meaningless or numeric entities.\"\"\"\n",
    "    if not ent.text or len(ent.text.strip()) < 2:\n",
    "        return False\n",
    "    if ent.text.replace('.', '', 1).isdigit():  # numeric price like 523.2800\n",
    "        return False\n",
    "    if ent.label.upper() not in FINANCIAL_ENTITY_LABELS:\n",
    "        return False\n",
    "    return True"
   ]
  },
  {
   "cell_type": "code",
   "execution_count": 9,
   "id": "a7b03334",
   "metadata": {},
   "outputs": [],
   "source": [
    "def fetch_financial_data_alpha_vantage(ticker: str) -> str:\n",
    "    \"\"\"Fetch stock data from Alpha Vantage.\"\"\"\n",
    "    try:\n",
    "        url = \"https://www.alphavantage.co/query\"\n",
    "        params = {\"function\": \"GLOBAL_QUOTE\", \"symbol\": ticker, \"apikey\": ALPHA_VANTAGE_API_KEY}\n",
    "        resp = requests.get(url, params=params, timeout=15)\n",
    "        data = resp.json()\n",
    "        quote = data.get(\"Global Quote\") or {}\n",
    "        if not quote:\n",
    "            return \"\"\n",
    "        return f\"AlphaVantage Quote for {ticker}:\\n{json.dumps(quote, indent=2)}\"\n",
    "    except Exception as e:\n",
    "        print(f\"[Error] AlphaVantage: {e}\")\n",
    "        return \"\""
   ]
  },
  {
   "cell_type": "code",
   "execution_count": 10,
   "id": "59df1682",
   "metadata": {},
   "outputs": [],
   "source": [
    "def fetch_yahoo_news(ticker: str) -> str:\n",
    "    \"\"\"Fetch recent news correctly using LangChain YahooFinanceNewsTool.\"\"\"\n",
    "    try:\n",
    "        res = yahoo_news.invoke(ticker)\n",
    "        if isinstance(res, str) and len(res.strip()) > 50 and \"No news found\" not in res:\n",
    "            return f\"Yahoo Finance News for {ticker}:\\n{res}\"\n",
    "    except Exception as e:\n",
    "        print(f\"[Error] YahooNewsTool: {e}\")\n",
    "    return \"\""
   ]
  },
  {
   "cell_type": "code",
   "execution_count": 11,
   "id": "0b89619c",
   "metadata": {},
   "outputs": [],
   "source": [
    "def fetch_related_info(entity_name: str) -> str:\n",
    "    for src, tool in [(\"Wikipedia\", wiki), (\"DuckDuckGo\", ddgo)]:\n",
    "        try:\n",
    "            res = tool.run(entity_name)\n",
    "            if isinstance(res, str) and len(res.strip()) > 50:\n",
    "                return res[:4000]\n",
    "        except Exception as e:\n",
    "            print(f\"[Error] {src}: {e}\")\n",
    "    return \"\""
   ]
  },
  {
   "cell_type": "code",
   "execution_count": 12,
   "id": "5b016f58",
   "metadata": {},
   "outputs": [],
   "source": [
    "def fetch_entity_info(entity_name: str, entity_label: str) -> str:\n",
    "    \"\"\"\n",
    "    Category-aware fetcher:\n",
    "    - STOCK_SYMBOL / ORGANIZATION → financial + news\n",
    "    - PERSON → background\n",
    "    - POLICY / GOVERNMENT → DuckDuckGo for recent events\n",
    "    \"\"\"\n",
    "    entity_label = entity_label.upper()\n",
    "    text = \"\"\n",
    "\n",
    "    if entity_label in {\"STOCK_SYMBOL\", \"ORGANIZATION\", \"COMPANY\"}:\n",
    "        text = fetch_financial_data_alpha_vantage(entity_name)\n",
    "        text += \"\\n\\n\" + fetch_yahoo_news(entity_name)\n",
    "\n",
    "    elif entity_label in {\"PERSON\"}:\n",
    "        text = fetch_related_info(entity_name)\n",
    "\n",
    "    elif entity_label in {\"POLICY\", \"GOVERNMENT\", \"EVENT\"}:\n",
    "        try:\n",
    "            print(f\"[Policy Search] Searching policy/news context for '{entity_name}'\")\n",
    "            res = ddgo.run(f\"{entity_name} government budget OR regulation OR policy 2025 site:reuters.com OR site:bloomberg.com\")\n",
    "            if res:\n",
    "                text = res[:4000]\n",
    "        except Exception as e:\n",
    "            print(f\"Policy search failed: {e}\")\n",
    "\n",
    "    if not text:\n",
    "        text = fetch_related_info(entity_name)\n",
    "\n",
    "    return text.strip() or f\"No relevant data for {entity_name}\""
   ]
  },
  {
   "cell_type": "code",
   "execution_count": 13,
   "id": "a2868ea0",
   "metadata": {},
   "outputs": [],
   "source": [
    "def add_entities_to_graph(G, seed_entity, seed_label, discovered_entities, source_text_snippet=None):\n",
    "    if not G.has_node(seed_entity):\n",
    "        G.add_node(seed_entity, label=seed_label)\n",
    "    for ent in discovered_entities:\n",
    "        if not G.has_node(ent.text):\n",
    "            G.add_node(ent.text, label=ent.label)\n",
    "        if not G.has_edge(seed_entity, ent.text):\n",
    "            G.add_edge(seed_entity, ent.text, relation=\"mentioned_with\", snippet=(source_text_snippet or \"\")[:400])"
   ]
  },
  {
   "cell_type": "code",
   "execution_count": 14,
   "id": "be573763",
   "metadata": {},
   "outputs": [],
   "source": [
    "def expand_graph(seed_ticker: str, depth: int = 3, throttle: float = FETCH_DELAY_SECONDS):\n",
    "    G = nx.Graph()\n",
    "    visited = {}\n",
    "    current_entities = [Entity(text=seed_ticker, label=\"STOCK_SYMBOL\")]\n",
    "\n",
    "    for layer in range(1, depth + 1):\n",
    "        print(f\"\\n=== LAYER {layer} ===\")\n",
    "        next_entities = []\n",
    "\n",
    "        for ent in current_entities:\n",
    "            if ent.text in visited:\n",
    "                continue\n",
    "            visited[ent.text] = True\n",
    "\n",
    "            print(f\"[L{layer}] Fetching info for '{ent.text}' ({ent.label})\")\n",
    "            info = fetch_entity_info(ent.text, ent.label)\n",
    "            if not info.strip() or info.startswith(\"No relevant data\"):\n",
    "                continue\n",
    "\n",
    "            print(f\"[L{layer}] Running NER on '{ent.text}' info...\")\n",
    "            try:\n",
    "                ner_result = extraction_model.invoke(dedent(f\"Extract named entities:\\n{info[:8000]}\"))\n",
    "                discovered = [e for e in ner_result.entities if is_relevant_entity(e)]\n",
    "            except Exception as e:\n",
    "                print(f\"[Error] NER on {ent.text}: {e}\")\n",
    "                discovered = []\n",
    "\n",
    "            add_entities_to_graph(G, ent.text, ent.label, discovered, info)\n",
    "            next_entities.extend(d for d in discovered if d.text not in visited)\n",
    "            time.sleep(throttle)\n",
    "\n",
    "        current_entities = next_entities\n",
    "\n",
    "    print(f\"\\nGraph complete: {G.number_of_nodes()} nodes, {G.number_of_edges()} edges.\")\n",
    "    return G"
   ]
  },
  {
   "cell_type": "code",
   "execution_count": 15,
   "id": "ea890aff",
   "metadata": {},
   "outputs": [],
   "source": [
    "def generate_graph_report(G):\n",
    "    lines = [f\"Graph Report: {G.number_of_nodes()} nodes, {G.number_of_edges()} edges\"]\n",
    "    for n, d in G.nodes(data=True):\n",
    "        lines.append(f\"- {n} ({d.get('label','')})\")\n",
    "    return \"\\n\".join(lines)"
   ]
  },
  {
   "cell_type": "code",
   "execution_count": 16,
   "id": "f3f0d932",
   "metadata": {},
   "outputs": [
    {
     "name": "stdout",
     "output_type": "stream",
     "text": [
      "\n",
      "=== LAYER 1 ===\n",
      "[L1] Fetching info for 'MSFT' (STOCK_SYMBOL)\n",
      "[L1] Running NER on 'MSFT' info...\n",
      "\n",
      "=== LAYER 2 ===\n",
      "[L2] Fetching info for 'Microsoft' (COMPANY)\n",
      "[L2] Fetching info for 'Microsoft Corp' (COMPANY)\n"
     ]
    },
    {
     "name": "stderr",
     "output_type": "stream",
     "text": [
      "HTTP Error 404: {\"quoteSummary\":{\"result\":null,\"error\":{\"code\":\"Not Found\",\"description\":\"Quote not found for symbol: MICROSOFT CORP\"}}}\n"
     ]
    },
    {
     "name": "stdout",
     "output_type": "stream",
     "text": [
      "[L2] Fetching info for 'NASDAQ:MSFT' (STOCK_SYMBOL)\n"
     ]
    },
    {
     "name": "stderr",
     "output_type": "stream",
     "text": [
      "HTTP Error 404: {\"quoteSummary\":{\"result\":null,\"error\":{\"code\":\"Not Found\",\"description\":\"Quote not found for symbol: NASDAQ:MSFT\"}}}\n"
     ]
    },
    {
     "name": "stdout",
     "output_type": "stream",
     "text": [
      "[L2] Fetching info for 'Jim Cramer' (PERSON)\n",
      "[L2] Running NER on 'Jim Cramer' info...\n",
      "[L2] Fetching info for 'Melius Research' (ORGANIZATION)\n"
     ]
    },
    {
     "name": "stderr",
     "output_type": "stream",
     "text": [
      "HTTP Error 404: {\"quoteSummary\":{\"result\":null,\"error\":{\"code\":\"Not Found\",\"description\":\"Quote not found for symbol: MELIUS RESEARCH\"}}}\n"
     ]
    },
    {
     "name": "stdout",
     "output_type": "stream",
     "text": [
      "[L2] Fetching info for 'Ben Reitzes' (PERSON)\n",
      "[L2] Running NER on 'Ben Reitzes' info...\n",
      "\n",
      "Graph complete: 30 nodes, 31 edges.\n"
     ]
    }
   ],
   "source": [
    "graph = expand_graph(\"MSFT\", depth=2)"
   ]
  },
  {
   "cell_type": "code",
   "execution_count": 17,
   "id": "4bce97c7",
   "metadata": {},
   "outputs": [
    {
     "name": "stdout",
     "output_type": "stream",
     "text": [
      "Graph Report: 30 nodes, 31 edges\n",
      "- MSFT (STOCK_SYMBOL)\n",
      "- Microsoft (COMPANY)\n",
      "- Microsoft Corp (COMPANY)\n",
      "- NASDAQ:MSFT (STOCK_SYMBOL)\n",
      "- Jim Cramer (PERSON)\n",
      "- Melius Research (ORGANIZATION)\n",
      "- Ben Reitzes (PERSON)\n",
      "- James Joseph Cramer (PERSON)\n",
      "- CNBC (ORGANIZATION)\n",
      "- Harvard College (ORGANIZATION)\n",
      "- Harvard Law School (ORGANIZATION)\n",
      "- Goldman Sachs (ORGANIZATION)\n",
      "- Cramer Berkowitz (ORGANIZATION)\n",
      "- TheStreet (ORGANIZATION)\n",
      "- Jon Stewart (PERSON)\n",
      "- Rick Santelli (PERSON)\n",
      "- Chicago Board of Trade (ORGANIZATION)\n",
      "- New York Stock Exchange Building (ORGANIZATION)\n",
      "- 2008 financial crisis (EVENT)\n",
      "- 2009 Inauguration Day (EVENT)\n",
      "- Saul Alinsky (Person)\n",
      "- University of Delaware (UD) (Organization)\n",
      "- National Collegiate Athletic Association (NCAA) (Organization)\n",
      "- Ryan Carty (Person)\n",
      "- Rich Gannon (Person)\n",
      "- Joe Flacco (Person)\n",
      "- Jeff Komlo (Person)\n",
      "- Pat Devlin (Person)\n",
      "- Andy Hall (Person)\n",
      "- Scott Brunner (Person)\n"
     ]
    }
   ],
   "source": [
    "print(generate_graph_report(graph))"
   ]
  },
  {
   "cell_type": "code",
   "execution_count": null,
   "id": "1c25a321",
   "metadata": {},
   "outputs": [],
   "source": []
  }
 ],
 "metadata": {
  "kernelspec": {
   "display_name": "AAI-520-Project",
   "language": "python",
   "name": "python3"
  },
  "language_info": {
   "codemirror_mode": {
    "name": "ipython",
    "version": 3
   },
   "file_extension": ".py",
   "mimetype": "text/x-python",
   "name": "python",
   "nbconvert_exporter": "python",
   "pygments_lexer": "ipython3",
   "version": "3.10.18"
  }
 },
 "nbformat": 4,
 "nbformat_minor": 5
}
